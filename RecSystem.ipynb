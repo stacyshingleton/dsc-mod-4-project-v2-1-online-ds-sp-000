{
 "cells": [
  {
   "cell_type": "markdown",
   "metadata": {},
   "source": [
    "This jupyter notebook contains the code for the module 4 project of building a recommendation system. It imports two datasets from https://grouplens.org/datasets/movielens/latest/ (ml-latest-small.zip: movies.csv and ratings.csv), one containing movieID, title and genres, and the other containing movieID, rating, userID and timestamp. These datasets were filtered down by userId and the data was visualized using bar graphs and boxplots. The recommendation models was built using surpise, a scipy toolkit which builds and analyzes recommendation systems using explicit rating data. Five models were built - 4 derived from the nearest neighbor approach, and 1 using matrix factorization and SVD, singular value decomposition. The top performing model, according to MAE, was then used to create movie recommendations for a new user, once they input 5 ratings for previously seen movies.  "
   ]
  },
  {
   "cell_type": "code",
   "execution_count": 1,
   "metadata": {},
   "outputs": [],
   "source": [
    "import pandas as pd\n",
    "import numpy as np\n",
    "import matplotlib.pyplot as plt\n",
    "%matplotlib inline\n",
    "import seaborn as sns\n",
    "from sklearn.preprocessing import MultiLabelBinarizer\n",
    "from surprise import Reader, Dataset\n",
    "from surprise.model_selection import train_test_split, GridSearchCV\n",
    "from surprise.prediction_algorithms import SVD, KNNWithMeans, KNNBasic, KNNBaseline, KNNWithZScore\n",
    "from surprise.similarities import cosine, msd, pearson\n",
    "from surprise import accuracy"
   ]
  },
  {
   "cell_type": "code",
   "execution_count": 2,
   "metadata": {
    "scrolled": true
   },
   "outputs": [
    {
     "data": {
      "text/html": [
       "<div>\n",
       "<style scoped>\n",
       "    .dataframe tbody tr th:only-of-type {\n",
       "        vertical-align: middle;\n",
       "    }\n",
       "\n",
       "    .dataframe tbody tr th {\n",
       "        vertical-align: top;\n",
       "    }\n",
       "\n",
       "    .dataframe thead th {\n",
       "        text-align: right;\n",
       "    }\n",
       "</style>\n",
       "<table border=\"1\" class=\"dataframe\">\n",
       "  <thead>\n",
       "    <tr style=\"text-align: right;\">\n",
       "      <th></th>\n",
       "      <th>movieId</th>\n",
       "      <th>title</th>\n",
       "      <th>genres</th>\n",
       "    </tr>\n",
       "  </thead>\n",
       "  <tbody>\n",
       "    <tr>\n",
       "      <th>0</th>\n",
       "      <td>1</td>\n",
       "      <td>Toy Story (1995)</td>\n",
       "      <td>Adventure|Animation|Children|Comedy|Fantasy</td>\n",
       "    </tr>\n",
       "    <tr>\n",
       "      <th>1</th>\n",
       "      <td>2</td>\n",
       "      <td>Jumanji (1995)</td>\n",
       "      <td>Adventure|Children|Fantasy</td>\n",
       "    </tr>\n",
       "    <tr>\n",
       "      <th>2</th>\n",
       "      <td>3</td>\n",
       "      <td>Grumpier Old Men (1995)</td>\n",
       "      <td>Comedy|Romance</td>\n",
       "    </tr>\n",
       "    <tr>\n",
       "      <th>3</th>\n",
       "      <td>4</td>\n",
       "      <td>Waiting to Exhale (1995)</td>\n",
       "      <td>Comedy|Drama|Romance</td>\n",
       "    </tr>\n",
       "    <tr>\n",
       "      <th>4</th>\n",
       "      <td>5</td>\n",
       "      <td>Father of the Bride Part II (1995)</td>\n",
       "      <td>Comedy</td>\n",
       "    </tr>\n",
       "  </tbody>\n",
       "</table>\n",
       "</div>"
      ],
      "text/plain": [
       "   movieId                               title  \\\n",
       "0        1                    Toy Story (1995)   \n",
       "1        2                      Jumanji (1995)   \n",
       "2        3             Grumpier Old Men (1995)   \n",
       "3        4            Waiting to Exhale (1995)   \n",
       "4        5  Father of the Bride Part II (1995)   \n",
       "\n",
       "                                        genres  \n",
       "0  Adventure|Animation|Children|Comedy|Fantasy  \n",
       "1                   Adventure|Children|Fantasy  \n",
       "2                               Comedy|Romance  \n",
       "3                         Comedy|Drama|Romance  \n",
       "4                                       Comedy  "
      ]
     },
     "execution_count": 2,
     "metadata": {},
     "output_type": "execute_result"
    }
   ],
   "source": [
    "# importing csv and converting to data frame\n",
    "# contains movieId, title, and genres ()\n",
    "movies_df = pd.read_csv('movies.csv')\n",
    "movies_df.head()"
   ]
  },
  {
   "cell_type": "code",
   "execution_count": 3,
   "metadata": {},
   "outputs": [
    {
     "name": "stdout",
     "output_type": "stream",
     "text": [
      "Shape of movies_df:  (9742, 3)\n",
      "Unique movieId values:  9742\n"
     ]
    }
   ],
   "source": [
    "print('Shape of movies_df: ', movies_df.shape)\n",
    "print('Unique movieId values: ', movies_df['movieId'].nunique())"
   ]
  },
  {
   "cell_type": "code",
   "execution_count": 4,
   "metadata": {},
   "outputs": [
    {
     "data": {
      "text/html": [
       "<div>\n",
       "<style scoped>\n",
       "    .dataframe tbody tr th:only-of-type {\n",
       "        vertical-align: middle;\n",
       "    }\n",
       "\n",
       "    .dataframe tbody tr th {\n",
       "        vertical-align: top;\n",
       "    }\n",
       "\n",
       "    .dataframe thead th {\n",
       "        text-align: right;\n",
       "    }\n",
       "</style>\n",
       "<table border=\"1\" class=\"dataframe\">\n",
       "  <thead>\n",
       "    <tr style=\"text-align: right;\">\n",
       "      <th></th>\n",
       "      <th>userId</th>\n",
       "      <th>movieId</th>\n",
       "      <th>rating</th>\n",
       "      <th>timestamp</th>\n",
       "    </tr>\n",
       "  </thead>\n",
       "  <tbody>\n",
       "    <tr>\n",
       "      <th>0</th>\n",
       "      <td>1</td>\n",
       "      <td>1</td>\n",
       "      <td>4.0</td>\n",
       "      <td>964982703</td>\n",
       "    </tr>\n",
       "    <tr>\n",
       "      <th>1</th>\n",
       "      <td>1</td>\n",
       "      <td>3</td>\n",
       "      <td>4.0</td>\n",
       "      <td>964981247</td>\n",
       "    </tr>\n",
       "    <tr>\n",
       "      <th>2</th>\n",
       "      <td>1</td>\n",
       "      <td>6</td>\n",
       "      <td>4.0</td>\n",
       "      <td>964982224</td>\n",
       "    </tr>\n",
       "    <tr>\n",
       "      <th>3</th>\n",
       "      <td>1</td>\n",
       "      <td>47</td>\n",
       "      <td>5.0</td>\n",
       "      <td>964983815</td>\n",
       "    </tr>\n",
       "    <tr>\n",
       "      <th>4</th>\n",
       "      <td>1</td>\n",
       "      <td>50</td>\n",
       "      <td>5.0</td>\n",
       "      <td>964982931</td>\n",
       "    </tr>\n",
       "  </tbody>\n",
       "</table>\n",
       "</div>"
      ],
      "text/plain": [
       "   userId  movieId  rating  timestamp\n",
       "0       1        1     4.0  964982703\n",
       "1       1        3     4.0  964981247\n",
       "2       1        6     4.0  964982224\n",
       "3       1       47     5.0  964983815\n",
       "4       1       50     5.0  964982931"
      ]
     },
     "execution_count": 4,
     "metadata": {},
     "output_type": "execute_result"
    }
   ],
   "source": [
    "# importing csv and converting to data frame\n",
    "\n",
    "ratings_df = pd.read_csv('ratings.csv')\n",
    "ratings_df.head()"
   ]
  },
  {
   "cell_type": "code",
   "execution_count": 5,
   "metadata": {},
   "outputs": [
    {
     "data": {
      "text/html": [
       "<div>\n",
       "<style scoped>\n",
       "    .dataframe tbody tr th:only-of-type {\n",
       "        vertical-align: middle;\n",
       "    }\n",
       "\n",
       "    .dataframe tbody tr th {\n",
       "        vertical-align: top;\n",
       "    }\n",
       "\n",
       "    .dataframe thead th {\n",
       "        text-align: right;\n",
       "    }\n",
       "</style>\n",
       "<table border=\"1\" class=\"dataframe\">\n",
       "  <thead>\n",
       "    <tr style=\"text-align: right;\">\n",
       "      <th></th>\n",
       "      <th>userId</th>\n",
       "      <th>movieId</th>\n",
       "      <th>rating</th>\n",
       "    </tr>\n",
       "  </thead>\n",
       "  <tbody>\n",
       "    <tr>\n",
       "      <th>0</th>\n",
       "      <td>1</td>\n",
       "      <td>1</td>\n",
       "      <td>4.0</td>\n",
       "    </tr>\n",
       "    <tr>\n",
       "      <th>1</th>\n",
       "      <td>1</td>\n",
       "      <td>3</td>\n",
       "      <td>4.0</td>\n",
       "    </tr>\n",
       "    <tr>\n",
       "      <th>2</th>\n",
       "      <td>1</td>\n",
       "      <td>6</td>\n",
       "      <td>4.0</td>\n",
       "    </tr>\n",
       "    <tr>\n",
       "      <th>3</th>\n",
       "      <td>1</td>\n",
       "      <td>47</td>\n",
       "      <td>5.0</td>\n",
       "    </tr>\n",
       "    <tr>\n",
       "      <th>4</th>\n",
       "      <td>1</td>\n",
       "      <td>50</td>\n",
       "      <td>5.0</td>\n",
       "    </tr>\n",
       "  </tbody>\n",
       "</table>\n",
       "</div>"
      ],
      "text/plain": [
       "   userId  movieId  rating\n",
       "0       1        1     4.0\n",
       "1       1        3     4.0\n",
       "2       1        6     4.0\n",
       "3       1       47     5.0\n",
       "4       1       50     5.0"
      ]
     },
     "execution_count": 5,
     "metadata": {},
     "output_type": "execute_result"
    }
   ],
   "source": [
    "# dropping timestamp colummn\n",
    "\n",
    "ratings_df = ratings_df.drop('timestamp', axis = 1)\n",
    "ratings_df.head()"
   ]
  },
  {
   "cell_type": "code",
   "execution_count": 6,
   "metadata": {},
   "outputs": [
    {
     "name": "stdout",
     "output_type": "stream",
     "text": [
      "Shape of ratings_df:  (100836, 3)\n",
      "Unique movieId values:  9724\n",
      "Unique userId values:  610\n"
     ]
    }
   ],
   "source": [
    "print('Shape of ratings_df: ', ratings_df.shape)\n",
    "print('Unique movieId values: ', ratings_df['movieId'].nunique())\n",
    "print('Unique userId values: ', ratings_df['userId'].nunique())"
   ]
  },
  {
   "cell_type": "code",
   "execution_count": 7,
   "metadata": {},
   "outputs": [
    {
     "data": {
      "text/html": [
       "<div>\n",
       "<style scoped>\n",
       "    .dataframe tbody tr th:only-of-type {\n",
       "        vertical-align: middle;\n",
       "    }\n",
       "\n",
       "    .dataframe tbody tr th {\n",
       "        vertical-align: top;\n",
       "    }\n",
       "\n",
       "    .dataframe thead th {\n",
       "        text-align: right;\n",
       "    }\n",
       "</style>\n",
       "<table border=\"1\" class=\"dataframe\">\n",
       "  <thead>\n",
       "    <tr style=\"text-align: right;\">\n",
       "      <th></th>\n",
       "      <th>userId</th>\n",
       "      <th>rating</th>\n",
       "    </tr>\n",
       "    <tr>\n",
       "      <th>movieId</th>\n",
       "      <th></th>\n",
       "      <th></th>\n",
       "    </tr>\n",
       "  </thead>\n",
       "  <tbody>\n",
       "    <tr>\n",
       "      <th>1</th>\n",
       "      <td>1</td>\n",
       "      <td>4.0</td>\n",
       "    </tr>\n",
       "    <tr>\n",
       "      <th>3</th>\n",
       "      <td>1</td>\n",
       "      <td>4.0</td>\n",
       "    </tr>\n",
       "    <tr>\n",
       "      <th>6</th>\n",
       "      <td>1</td>\n",
       "      <td>4.0</td>\n",
       "    </tr>\n",
       "    <tr>\n",
       "      <th>47</th>\n",
       "      <td>1</td>\n",
       "      <td>5.0</td>\n",
       "    </tr>\n",
       "    <tr>\n",
       "      <th>50</th>\n",
       "      <td>1</td>\n",
       "      <td>5.0</td>\n",
       "    </tr>\n",
       "  </tbody>\n",
       "</table>\n",
       "</div>"
      ],
      "text/plain": [
       "         userId  rating\n",
       "movieId                \n",
       "1             1     4.0\n",
       "3             1     4.0\n",
       "6             1     4.0\n",
       "47            1     5.0\n",
       "50            1     5.0"
      ]
     },
     "execution_count": 7,
     "metadata": {},
     "output_type": "execute_result"
    }
   ],
   "source": [
    "# setting index for upcoming join\n",
    "\n",
    "ratings_df = ratings_df.set_index('movieId')\n",
    "ratings_df.head()"
   ]
  },
  {
   "cell_type": "markdown",
   "metadata": {},
   "source": [
    "Create two functions for exploratory data analysis: one for seaborn boxplots, one for seaborn barplots. "
   ]
  },
  {
   "cell_type": "code",
   "execution_count": 8,
   "metadata": {},
   "outputs": [],
   "source": [
    "def single_boxplot_function(boxplot_data, xlabel_title):\n",
    "    \"\"\"This function will create a single boxplot with 2 inputs: data and x axis label\"\"\"\n",
    "    plt.figure(figsize=(12,6))\n",
    "    sns.boxplot(boxplot_data, palette = 'husl')\n",
    "    plt.xticks(fontsize = 14)\n",
    "    plt.xlabel(xlabel_title, fontsize = 18)\n",
    "    plt.tight_layout()"
   ]
  },
  {
   "cell_type": "code",
   "execution_count": 9,
   "metadata": {},
   "outputs": [],
   "source": [
    "def bar_graph_function(x_list, y_list, title_title, xlabel_title, ylabel_title):\n",
    "    \"\"\"This function will create a bar plot with 5 inputs: \n",
    "    x axis data, y axis data, plot title, x axis label, y axis label\"\"\"\n",
    "    plt.figure(figsize=(10,8))\n",
    "    sns.barplot(x = x_list, y = y_list, palette = 'husl')\n",
    "    plt.title(title_title, fontsize = 18)\n",
    "    plt.xticks(rotation = 45, fontsize = 14, horizontalalignment=\"right\")\n",
    "    plt.xlabel(xlabel_title, fontsize = 18)\n",
    "    plt.yticks(fontsize = 14)\n",
    "    plt.ylabel(ylabel_title, fontsize = 18)\n",
    "    plt.tight_layout()"
   ]
  },
  {
   "cell_type": "code",
   "execution_count": 10,
   "metadata": {},
   "outputs": [
    {
     "name": "stdout",
     "output_type": "stream",
     "text": [
      "            rating\n",
      "count   610.000000\n",
      "mean    165.304918\n",
      "std     269.480584\n",
      "min      20.000000\n",
      "25%      35.000000\n",
      "50%      70.500000\n",
      "75%     168.000000\n",
      "max    2698.000000\n",
      "Help on function single_boxplot_function in module __main__:\n",
      "\n",
      "single_boxplot_function(boxplot_data, xlabel_title)\n",
      "    This function will create a single boxplot with 2 inputs: data and x axis label\n",
      "\n"
     ]
    },
    {
     "data": {
      "image/png": "[encoded data removed]",
      "text/plain": [
       "<Figure size 864x432 with 1 Axes>"
      ]
     },
     "metadata": {
      "needs_background": "light"
     },
     "output_type": "display_data"
    }
   ],
   "source": [
    "# boxplot of number of reviews per user\n",
    "\n",
    "num_of_ratings_per_user = pd.DataFrame(ratings_df.groupby('userId')['rating'].count() \\\n",
    "                                       .sort_values(ascending = False))\n",
    "print(num_of_ratings_per_user.describe())\n",
    "\n",
    "help(single_boxplot_function)\n",
    "single_boxplot_function(num_of_ratings_per_user, 'Number of Movies Rated by User')"
   ]
  },
  {
   "cell_type": "code",
   "execution_count": 11,
   "metadata": {
    "scrolled": false
   },
   "outputs": [
    {
     "name": "stdout",
     "output_type": "stream",
     "text": [
      "           rating\n",
      "count  459.000000\n",
      "mean    63.657952\n",
      "std     40.856370\n",
      "min     20.000000\n",
      "25%     31.000000\n",
      "50%     50.000000\n",
      "75%     89.000000\n",
      "max    168.000000\n"
     ]
    },
    {
     "data": {
      "image/png": "[encoded data removed]",
      "text/plain": [
       "<Figure size 864x432 with 1 Axes>"
      ]
     },
     "metadata": {
      "needs_background": "light"
     },
     "output_type": "display_data"
    }
   ],
   "source": [
    "# filtering the users by number of movies rated\n",
    "\n",
    "filtered_users_by_num_ratings = num_of_ratings_per_user.loc[num_of_ratings_per_user['rating'] \\\n",
    "                                                            < 170]\n",
    "print(filtered_users_by_num_ratings.describe())\n",
    "filtered_users_by_num_ratings.reset_index(inplace = True)\n",
    "filtered_users_by_num_ratings_list = list(filtered_users_by_num_ratings['userId'])\n",
    "\n",
    "single_boxplot_function(filtered_users_by_num_ratings, 'Number of Movies Rated by Filtered Users')"
   ]
  },
  {
   "cell_type": "code",
   "execution_count": 12,
   "metadata": {},
   "outputs": [
    {
     "name": "stdout",
     "output_type": "stream",
     "text": [
      "           rating\n",
      "count  459.000000\n",
      "mean     3.696785\n",
      "std      0.480421\n",
      "min      1.275000\n",
      "25%      3.377976\n",
      "50%      3.753623\n",
      "75%      4.025893\n",
      "max      5.000000\n"
     ]
    },
    {
     "data": {
      "image/png": "[encoded data removed]",
      "text/plain": [
       "<Figure size 864x432 with 1 Axes>"
      ]
     },
     "metadata": {
      "needs_background": "light"
     },
     "output_type": "display_data"
    }
   ],
   "source": [
    "ratings_by_filtered_users = ratings_df.loc[ratings_df['userId']. \\\n",
    "                                           isin(filtered_users_by_num_ratings_list)]\n",
    "avg_ratings_by_filtered_users = pd.DataFrame(ratings_by_filtered_users. \\\n",
    "                                             groupby('userId')['rating'].mean())\n",
    "print(avg_ratings_by_filtered_users.describe())\n",
    "\n",
    "single_boxplot_function(avg_ratings_by_filtered_users, 'Average Rating by Users')"
   ]
  },
  {
   "cell_type": "code",
   "execution_count": 13,
   "metadata": {},
   "outputs": [
    {
     "data": {
      "image/png": "[encoded data removed]",
      "text/plain": [
       "<Figure size 864x432 with 1 Axes>"
      ]
     },
     "metadata": {
      "needs_background": "light"
     },
     "output_type": "display_data"
    }
   ],
   "source": [
    "final_users = avg_ratings_by_filtered_users.loc[(avg_ratings_by_filtered_users['rating']>2.45) \\\n",
    "                                                & (avg_ratings_by_filtered_users['rating']<4.9)]\n",
    "\n",
    "single_boxplot_function(final_users, 'Average Rating by Filtered Users')"
   ]
  },
  {
   "cell_type": "code",
   "execution_count": 14,
   "metadata": {
    "scrolled": false
   },
   "outputs": [
    {
     "name": "stdout",
     "output_type": "stream",
     "text": [
      "<class 'pandas.core.frame.DataFrame'>\n",
      "Int64Index: 28973 entries, 318 to 1161\n",
      "Data columns (total 2 columns):\n",
      " #   Column  Non-Null Count  Dtype  \n",
      "---  ------  --------------  -----  \n",
      " 0   userId  28973 non-null  int64  \n",
      " 1   rating  28973 non-null  float64\n",
      "dtypes: float64(1), int64(1)\n",
      "memory usage: 679.1 KB\n",
      "None\n"
     ]
    },
    {
     "data": {
      "text/html": [
       "<div>\n",
       "<style scoped>\n",
       "    .dataframe tbody tr th:only-of-type {\n",
       "        vertical-align: middle;\n",
       "    }\n",
       "\n",
       "    .dataframe tbody tr th {\n",
       "        vertical-align: top;\n",
       "    }\n",
       "\n",
       "    .dataframe thead th {\n",
       "        text-align: right;\n",
       "    }\n",
       "</style>\n",
       "<table border=\"1\" class=\"dataframe\">\n",
       "  <thead>\n",
       "    <tr style=\"text-align: right;\">\n",
       "      <th></th>\n",
       "      <th>userId</th>\n",
       "      <th>rating</th>\n",
       "    </tr>\n",
       "    <tr>\n",
       "      <th>movieId</th>\n",
       "      <th></th>\n",
       "      <th></th>\n",
       "    </tr>\n",
       "  </thead>\n",
       "  <tbody>\n",
       "    <tr>\n",
       "      <th>318</th>\n",
       "      <td>2</td>\n",
       "      <td>3.0</td>\n",
       "    </tr>\n",
       "    <tr>\n",
       "      <th>333</th>\n",
       "      <td>2</td>\n",
       "      <td>4.0</td>\n",
       "    </tr>\n",
       "    <tr>\n",
       "      <th>1704</th>\n",
       "      <td>2</td>\n",
       "      <td>4.5</td>\n",
       "    </tr>\n",
       "    <tr>\n",
       "      <th>3578</th>\n",
       "      <td>2</td>\n",
       "      <td>4.0</td>\n",
       "    </tr>\n",
       "    <tr>\n",
       "      <th>6874</th>\n",
       "      <td>2</td>\n",
       "      <td>4.0</td>\n",
       "    </tr>\n",
       "  </tbody>\n",
       "</table>\n",
       "</div>"
      ],
      "text/plain": [
       "         userId  rating\n",
       "movieId                \n",
       "318           2     3.0\n",
       "333           2     4.0\n",
       "1704          2     4.5\n",
       "3578          2     4.0\n",
       "6874          2     4.0"
      ]
     },
     "execution_count": 14,
     "metadata": {},
     "output_type": "execute_result"
    }
   ],
   "source": [
    "# filtering the original ratings_df to only contain filtered users list\n",
    "\n",
    "final_users.reset_index(inplace = True)\n",
    "final_users_list = list(final_users['userId'])\n",
    "final_ratings = ratings_df.loc[ratings_df['userId'].isin(final_users_list)]\n",
    "print(final_ratings.info())\n",
    "final_ratings.head()"
   ]
  },
  {
   "cell_type": "code",
   "execution_count": 15,
   "metadata": {},
   "outputs": [
    {
     "name": "stdout",
     "output_type": "stream",
     "text": [
      "<class 'pandas.core.frame.DataFrame'>\n",
      "Int64Index: 9742 entries, 1 to 193609\n",
      "Data columns (total 2 columns):\n",
      " #   Column  Non-Null Count  Dtype \n",
      "---  ------  --------------  ----- \n",
      " 0   title   9742 non-null   object\n",
      " 1   genres  9742 non-null   object\n",
      "dtypes: object(2)\n",
      "memory usage: 228.3+ KB\n",
      "None\n"
     ]
    },
    {
     "data": {
      "text/html": [
       "<div>\n",
       "<style scoped>\n",
       "    .dataframe tbody tr th:only-of-type {\n",
       "        vertical-align: middle;\n",
       "    }\n",
       "\n",
       "    .dataframe tbody tr th {\n",
       "        vertical-align: top;\n",
       "    }\n",
       "\n",
       "    .dataframe thead th {\n",
       "        text-align: right;\n",
       "    }\n",
       "</style>\n",
       "<table border=\"1\" class=\"dataframe\">\n",
       "  <thead>\n",
       "    <tr style=\"text-align: right;\">\n",
       "      <th></th>\n",
       "      <th>title</th>\n",
       "      <th>genres</th>\n",
       "    </tr>\n",
       "    <tr>\n",
       "      <th>movieId</th>\n",
       "      <th></th>\n",
       "      <th></th>\n",
       "    </tr>\n",
       "  </thead>\n",
       "  <tbody>\n",
       "    <tr>\n",
       "      <th>1</th>\n",
       "      <td>Toy Story (1995)</td>\n",
       "      <td>Adventure|Animation|Children|Comedy|Fantasy</td>\n",
       "    </tr>\n",
       "    <tr>\n",
       "      <th>2</th>\n",
       "      <td>Jumanji (1995)</td>\n",
       "      <td>Adventure|Children|Fantasy</td>\n",
       "    </tr>\n",
       "    <tr>\n",
       "      <th>3</th>\n",
       "      <td>Grumpier Old Men (1995)</td>\n",
       "      <td>Comedy|Romance</td>\n",
       "    </tr>\n",
       "    <tr>\n",
       "      <th>4</th>\n",
       "      <td>Waiting to Exhale (1995)</td>\n",
       "      <td>Comedy|Drama|Romance</td>\n",
       "    </tr>\n",
       "    <tr>\n",
       "      <th>5</th>\n",
       "      <td>Father of the Bride Part II (1995)</td>\n",
       "      <td>Comedy</td>\n",
       "    </tr>\n",
       "  </tbody>\n",
       "</table>\n",
       "</div>"
      ],
      "text/plain": [
       "                                      title  \\\n",
       "movieId                                       \n",
       "1                          Toy Story (1995)   \n",
       "2                            Jumanji (1995)   \n",
       "3                   Grumpier Old Men (1995)   \n",
       "4                  Waiting to Exhale (1995)   \n",
       "5        Father of the Bride Part II (1995)   \n",
       "\n",
       "                                              genres  \n",
       "movieId                                               \n",
       "1        Adventure|Animation|Children|Comedy|Fantasy  \n",
       "2                         Adventure|Children|Fantasy  \n",
       "3                                     Comedy|Romance  \n",
       "4                               Comedy|Drama|Romance  \n",
       "5                                             Comedy  "
      ]
     },
     "execution_count": 15,
     "metadata": {},
     "output_type": "execute_result"
    }
   ],
   "source": [
    "# resetting index to prepare for a join\n",
    "\n",
    "movies_df.set_index('movieId', inplace = True)\n",
    "print(movies_df.info())\n",
    "movies_df.head()"
   ]
  },
  {
   "cell_type": "code",
   "execution_count": 16,
   "metadata": {},
   "outputs": [
    {
     "name": "stdout",
     "output_type": "stream",
     "text": [
      "<class 'pandas.core.frame.DataFrame'>\n",
      "Int64Index: 28973 entries, 1 to 193609\n",
      "Data columns (total 4 columns):\n",
      " #   Column  Non-Null Count  Dtype  \n",
      "---  ------  --------------  -----  \n",
      " 0   userId  28973 non-null  int64  \n",
      " 1   rating  28973 non-null  float64\n",
      " 2   title   28973 non-null  object \n",
      " 3   genres  28973 non-null  object \n",
      "dtypes: float64(1), int64(1), object(2)\n",
      "memory usage: 1.1+ MB\n",
      "None\n"
     ]
    },
    {
     "data": {
      "text/html": [
       "<div>\n",
       "<style scoped>\n",
       "    .dataframe tbody tr th:only-of-type {\n",
       "        vertical-align: middle;\n",
       "    }\n",
       "\n",
       "    .dataframe tbody tr th {\n",
       "        vertical-align: top;\n",
       "    }\n",
       "\n",
       "    .dataframe thead th {\n",
       "        text-align: right;\n",
       "    }\n",
       "</style>\n",
       "<table border=\"1\" class=\"dataframe\">\n",
       "  <thead>\n",
       "    <tr style=\"text-align: right;\">\n",
       "      <th></th>\n",
       "      <th>userId</th>\n",
       "      <th>rating</th>\n",
       "      <th>title</th>\n",
       "      <th>genres</th>\n",
       "    </tr>\n",
       "    <tr>\n",
       "      <th>movieId</th>\n",
       "      <th></th>\n",
       "      <th></th>\n",
       "      <th></th>\n",
       "      <th></th>\n",
       "    </tr>\n",
       "  </thead>\n",
       "  <tbody>\n",
       "    <tr>\n",
       "      <th>1</th>\n",
       "      <td>5</td>\n",
       "      <td>4.0</td>\n",
       "      <td>Toy Story (1995)</td>\n",
       "      <td>Adventure|Animation|Children|Comedy|Fantasy</td>\n",
       "    </tr>\n",
       "    <tr>\n",
       "      <th>1</th>\n",
       "      <td>7</td>\n",
       "      <td>4.5</td>\n",
       "      <td>Toy Story (1995)</td>\n",
       "      <td>Adventure|Animation|Children|Comedy|Fantasy</td>\n",
       "    </tr>\n",
       "    <tr>\n",
       "      <th>1</th>\n",
       "      <td>15</td>\n",
       "      <td>2.5</td>\n",
       "      <td>Toy Story (1995)</td>\n",
       "      <td>Adventure|Animation|Children|Comedy|Fantasy</td>\n",
       "    </tr>\n",
       "    <tr>\n",
       "      <th>1</th>\n",
       "      <td>17</td>\n",
       "      <td>4.5</td>\n",
       "      <td>Toy Story (1995)</td>\n",
       "      <td>Adventure|Animation|Children|Comedy|Fantasy</td>\n",
       "    </tr>\n",
       "    <tr>\n",
       "      <th>1</th>\n",
       "      <td>27</td>\n",
       "      <td>3.0</td>\n",
       "      <td>Toy Story (1995)</td>\n",
       "      <td>Adventure|Animation|Children|Comedy|Fantasy</td>\n",
       "    </tr>\n",
       "  </tbody>\n",
       "</table>\n",
       "</div>"
      ],
      "text/plain": [
       "         userId  rating             title  \\\n",
       "movieId                                     \n",
       "1             5     4.0  Toy Story (1995)   \n",
       "1             7     4.5  Toy Story (1995)   \n",
       "1            15     2.5  Toy Story (1995)   \n",
       "1            17     4.5  Toy Story (1995)   \n",
       "1            27     3.0  Toy Story (1995)   \n",
       "\n",
       "                                              genres  \n",
       "movieId                                               \n",
       "1        Adventure|Animation|Children|Comedy|Fantasy  \n",
       "1        Adventure|Animation|Children|Comedy|Fantasy  \n",
       "1        Adventure|Animation|Children|Comedy|Fantasy  \n",
       "1        Adventure|Animation|Children|Comedy|Fantasy  \n",
       "1        Adventure|Animation|Children|Comedy|Fantasy  "
      ]
     },
     "execution_count": 16,
     "metadata": {},
     "output_type": "execute_result"
    }
   ],
   "source": [
    "# joining movie name dataframe with genre labels to ratings dataframe on movieId column\n",
    "\n",
    "movie_ratings = final_ratings.join(movies_df)\n",
    "print(movie_ratings.info())\n",
    "movie_ratings.head()"
   ]
  },
  {
   "cell_type": "code",
   "execution_count": 17,
   "metadata": {
    "scrolled": false
   },
   "outputs": [
    {
     "name": "stdout",
     "output_type": "stream",
     "text": [
      "Help on function bar_graph_function in module __main__:\n",
      "\n",
      "bar_graph_function(x_list, y_list, title_title, xlabel_title, ylabel_title)\n",
      "    This function will create a bar plot with 5 inputs: \n",
      "    x axis data, y axis data, plot title, x axis label, y axis label\n",
      "\n"
     ]
    },
    {
     "data": {
      "image/png": "[encoded data removed]",
      "text/plain": [
       "<Figure size 720x576 with 1 Axes>"
      ]
     },
     "metadata": {
      "needs_background": "light"
     },
     "output_type": "display_data"
    }
   ],
   "source": [
    "# splitting genres string to seperate columns and \n",
    "# plotting number of movies by genre (one movie can overlap genres)\n",
    "\n",
    "genres_series = movies_df['genres'].str.split('|')\n",
    "mlb = MultiLabelBinarizer()\n",
    "genres_ohe = pd.DataFrame(mlb.fit_transform(genres_series),\n",
    "                   columns=mlb.classes_,\n",
    "                   index=genres_series.index)\n",
    "genres_ohe = genres_ohe.drop('(no genres listed)', axis = 1)\n",
    "genre_count = list(genres_ohe.sum())\n",
    "genre_list = list(genres_ohe.columns.values)\n",
    "\n",
    "help(bar_graph_function)\n",
    "bar_graph_function(genre_list, genre_count, 'Movie Count per Genre (Can Overlap Genres)', \\\n",
    "                   'Genre', 'Movie Count')\n",
    "plt.savefig('images/movie_count_per_genre.png')"
   ]
  },
  {
   "cell_type": "code",
   "execution_count": 18,
   "metadata": {},
   "outputs": [
    {
     "data": {
      "text/html": [
       "<div>\n",
       "<style scoped>\n",
       "    .dataframe tbody tr th:only-of-type {\n",
       "        vertical-align: middle;\n",
       "    }\n",
       "\n",
       "    .dataframe tbody tr th {\n",
       "        vertical-align: top;\n",
       "    }\n",
       "\n",
       "    .dataframe thead th {\n",
       "        text-align: right;\n",
       "    }\n",
       "</style>\n",
       "<table border=\"1\" class=\"dataframe\">\n",
       "  <thead>\n",
       "    <tr style=\"text-align: right;\">\n",
       "      <th></th>\n",
       "      <th>userId</th>\n",
       "      <th>rating</th>\n",
       "      <th>title</th>\n",
       "      <th>genres</th>\n",
       "    </tr>\n",
       "    <tr>\n",
       "      <th>movieId</th>\n",
       "      <th></th>\n",
       "      <th></th>\n",
       "      <th></th>\n",
       "      <th></th>\n",
       "    </tr>\n",
       "  </thead>\n",
       "  <tbody>\n",
       "    <tr>\n",
       "      <th>1</th>\n",
       "      <td>5</td>\n",
       "      <td>4.0</td>\n",
       "      <td>Toy Story (1995)</td>\n",
       "      <td>Adventure|Animation|Children|Comedy|Fantasy</td>\n",
       "    </tr>\n",
       "    <tr>\n",
       "      <th>1</th>\n",
       "      <td>7</td>\n",
       "      <td>4.5</td>\n",
       "      <td>Toy Story (1995)</td>\n",
       "      <td>Adventure|Animation|Children|Comedy|Fantasy</td>\n",
       "    </tr>\n",
       "    <tr>\n",
       "      <th>1</th>\n",
       "      <td>15</td>\n",
       "      <td>2.5</td>\n",
       "      <td>Toy Story (1995)</td>\n",
       "      <td>Adventure|Animation|Children|Comedy|Fantasy</td>\n",
       "    </tr>\n",
       "    <tr>\n",
       "      <th>1</th>\n",
       "      <td>17</td>\n",
       "      <td>4.5</td>\n",
       "      <td>Toy Story (1995)</td>\n",
       "      <td>Adventure|Animation|Children|Comedy|Fantasy</td>\n",
       "    </tr>\n",
       "    <tr>\n",
       "      <th>1</th>\n",
       "      <td>27</td>\n",
       "      <td>3.0</td>\n",
       "      <td>Toy Story (1995)</td>\n",
       "      <td>Adventure|Animation|Children|Comedy|Fantasy</td>\n",
       "    </tr>\n",
       "  </tbody>\n",
       "</table>\n",
       "</div>"
      ],
      "text/plain": [
       "         userId  rating             title  \\\n",
       "movieId                                     \n",
       "1             5     4.0  Toy Story (1995)   \n",
       "1             7     4.5  Toy Story (1995)   \n",
       "1            15     2.5  Toy Story (1995)   \n",
       "1            17     4.5  Toy Story (1995)   \n",
       "1            27     3.0  Toy Story (1995)   \n",
       "\n",
       "                                              genres  \n",
       "movieId                                               \n",
       "1        Adventure|Animation|Children|Comedy|Fantasy  \n",
       "1        Adventure|Animation|Children|Comedy|Fantasy  \n",
       "1        Adventure|Animation|Children|Comedy|Fantasy  \n",
       "1        Adventure|Animation|Children|Comedy|Fantasy  \n",
       "1        Adventure|Animation|Children|Comedy|Fantasy  "
      ]
     },
     "execution_count": 18,
     "metadata": {},
     "output_type": "execute_result"
    }
   ],
   "source": [
    "# print(movie_ratings.info())\n",
    "movie_ratings.head()"
   ]
  },
  {
   "cell_type": "code",
   "execution_count": 19,
   "metadata": {},
   "outputs": [
    {
     "data": {
      "text/html": [
       "<div>\n",
       "<style scoped>\n",
       "    .dataframe tbody tr th:only-of-type {\n",
       "        vertical-align: middle;\n",
       "    }\n",
       "\n",
       "    .dataframe tbody tr th {\n",
       "        vertical-align: top;\n",
       "    }\n",
       "\n",
       "    .dataframe thead th {\n",
       "        text-align: right;\n",
       "    }\n",
       "</style>\n",
       "<table border=\"1\" class=\"dataframe\">\n",
       "  <thead>\n",
       "    <tr style=\"text-align: right;\">\n",
       "      <th></th>\n",
       "      <th>Action</th>\n",
       "      <th>Adventure</th>\n",
       "      <th>Animation</th>\n",
       "      <th>Children</th>\n",
       "      <th>Comedy</th>\n",
       "      <th>Crime</th>\n",
       "      <th>Documentary</th>\n",
       "      <th>Drama</th>\n",
       "      <th>Fantasy</th>\n",
       "      <th>Film-Noir</th>\n",
       "      <th>Horror</th>\n",
       "      <th>IMAX</th>\n",
       "      <th>Musical</th>\n",
       "      <th>Mystery</th>\n",
       "      <th>Romance</th>\n",
       "      <th>Sci-Fi</th>\n",
       "      <th>Thriller</th>\n",
       "      <th>War</th>\n",
       "      <th>Western</th>\n",
       "    </tr>\n",
       "    <tr>\n",
       "      <th>movieId</th>\n",
       "      <th></th>\n",
       "      <th></th>\n",
       "      <th></th>\n",
       "      <th></th>\n",
       "      <th></th>\n",
       "      <th></th>\n",
       "      <th></th>\n",
       "      <th></th>\n",
       "      <th></th>\n",
       "      <th></th>\n",
       "      <th></th>\n",
       "      <th></th>\n",
       "      <th></th>\n",
       "      <th></th>\n",
       "      <th></th>\n",
       "      <th></th>\n",
       "      <th></th>\n",
       "      <th></th>\n",
       "      <th></th>\n",
       "    </tr>\n",
       "  </thead>\n",
       "  <tbody>\n",
       "    <tr>\n",
       "      <th>1</th>\n",
       "      <td>0</td>\n",
       "      <td>1</td>\n",
       "      <td>1</td>\n",
       "      <td>1</td>\n",
       "      <td>1</td>\n",
       "      <td>0</td>\n",
       "      <td>0</td>\n",
       "      <td>0</td>\n",
       "      <td>1</td>\n",
       "      <td>0</td>\n",
       "      <td>0</td>\n",
       "      <td>0</td>\n",
       "      <td>0</td>\n",
       "      <td>0</td>\n",
       "      <td>0</td>\n",
       "      <td>0</td>\n",
       "      <td>0</td>\n",
       "      <td>0</td>\n",
       "      <td>0</td>\n",
       "    </tr>\n",
       "    <tr>\n",
       "      <th>2</th>\n",
       "      <td>0</td>\n",
       "      <td>1</td>\n",
       "      <td>0</td>\n",
       "      <td>1</td>\n",
       "      <td>0</td>\n",
       "      <td>0</td>\n",
       "      <td>0</td>\n",
       "      <td>0</td>\n",
       "      <td>1</td>\n",
       "      <td>0</td>\n",
       "      <td>0</td>\n",
       "      <td>0</td>\n",
       "      <td>0</td>\n",
       "      <td>0</td>\n",
       "      <td>0</td>\n",
       "      <td>0</td>\n",
       "      <td>0</td>\n",
       "      <td>0</td>\n",
       "      <td>0</td>\n",
       "    </tr>\n",
       "    <tr>\n",
       "      <th>3</th>\n",
       "      <td>0</td>\n",
       "      <td>0</td>\n",
       "      <td>0</td>\n",
       "      <td>0</td>\n",
       "      <td>1</td>\n",
       "      <td>0</td>\n",
       "      <td>0</td>\n",
       "      <td>0</td>\n",
       "      <td>0</td>\n",
       "      <td>0</td>\n",
       "      <td>0</td>\n",
       "      <td>0</td>\n",
       "      <td>0</td>\n",
       "      <td>0</td>\n",
       "      <td>1</td>\n",
       "      <td>0</td>\n",
       "      <td>0</td>\n",
       "      <td>0</td>\n",
       "      <td>0</td>\n",
       "    </tr>\n",
       "    <tr>\n",
       "      <th>4</th>\n",
       "      <td>0</td>\n",
       "      <td>0</td>\n",
       "      <td>0</td>\n",
       "      <td>0</td>\n",
       "      <td>1</td>\n",
       "      <td>0</td>\n",
       "      <td>0</td>\n",
       "      <td>1</td>\n",
       "      <td>0</td>\n",
       "      <td>0</td>\n",
       "      <td>0</td>\n",
       "      <td>0</td>\n",
       "      <td>0</td>\n",
       "      <td>0</td>\n",
       "      <td>1</td>\n",
       "      <td>0</td>\n",
       "      <td>0</td>\n",
       "      <td>0</td>\n",
       "      <td>0</td>\n",
       "    </tr>\n",
       "    <tr>\n",
       "      <th>5</th>\n",
       "      <td>0</td>\n",
       "      <td>0</td>\n",
       "      <td>0</td>\n",
       "      <td>0</td>\n",
       "      <td>1</td>\n",
       "      <td>0</td>\n",
       "      <td>0</td>\n",
       "      <td>0</td>\n",
       "      <td>0</td>\n",
       "      <td>0</td>\n",
       "      <td>0</td>\n",
       "      <td>0</td>\n",
       "      <td>0</td>\n",
       "      <td>0</td>\n",
       "      <td>0</td>\n",
       "      <td>0</td>\n",
       "      <td>0</td>\n",
       "      <td>0</td>\n",
       "      <td>0</td>\n",
       "    </tr>\n",
       "  </tbody>\n",
       "</table>\n",
       "</div>"
      ],
      "text/plain": [
       "         Action  Adventure  Animation  Children  Comedy  Crime  Documentary  \\\n",
       "movieId                                                                       \n",
       "1             0          1          1         1       1      0            0   \n",
       "2             0          1          0         1       0      0            0   \n",
       "3             0          0          0         0       1      0            0   \n",
       "4             0          0          0         0       1      0            0   \n",
       "5             0          0          0         0       1      0            0   \n",
       "\n",
       "         Drama  Fantasy  Film-Noir  Horror  IMAX  Musical  Mystery  Romance  \\\n",
       "movieId                                                                       \n",
       "1            0        1          0       0     0        0        0        0   \n",
       "2            0        1          0       0     0        0        0        0   \n",
       "3            0        0          0       0     0        0        0        1   \n",
       "4            1        0          0       0     0        0        0        1   \n",
       "5            0        0          0       0     0        0        0        0   \n",
       "\n",
       "         Sci-Fi  Thriller  War  Western  \n",
       "movieId                                  \n",
       "1             0         0    0        0  \n",
       "2             0         0    0        0  \n",
       "3             0         0    0        0  \n",
       "4             0         0    0        0  \n",
       "5             0         0    0        0  "
      ]
     },
     "execution_count": 19,
     "metadata": {},
     "output_type": "execute_result"
    }
   ],
   "source": [
    "# print(genres_ohe.info())\n",
    "genres_ohe.head()"
   ]
  },
  {
   "cell_type": "code",
   "execution_count": 20,
   "metadata": {},
   "outputs": [
    {
     "data": {
      "text/html": [
       "<div>\n",
       "<style scoped>\n",
       "    .dataframe tbody tr th:only-of-type {\n",
       "        vertical-align: middle;\n",
       "    }\n",
       "\n",
       "    .dataframe tbody tr th {\n",
       "        vertical-align: top;\n",
       "    }\n",
       "\n",
       "    .dataframe thead th {\n",
       "        text-align: right;\n",
       "    }\n",
       "</style>\n",
       "<table border=\"1\" class=\"dataframe\">\n",
       "  <thead>\n",
       "    <tr style=\"text-align: right;\">\n",
       "      <th></th>\n",
       "      <th>movieId</th>\n",
       "      <th>userId</th>\n",
       "      <th>rating</th>\n",
       "      <th>title</th>\n",
       "      <th>Action</th>\n",
       "      <th>Adventure</th>\n",
       "      <th>Animation</th>\n",
       "      <th>Children</th>\n",
       "      <th>Comedy</th>\n",
       "      <th>Crime</th>\n",
       "      <th>...</th>\n",
       "      <th>Film-Noir</th>\n",
       "      <th>Horror</th>\n",
       "      <th>IMAX</th>\n",
       "      <th>Musical</th>\n",
       "      <th>Mystery</th>\n",
       "      <th>Romance</th>\n",
       "      <th>Sci-Fi</th>\n",
       "      <th>Thriller</th>\n",
       "      <th>War</th>\n",
       "      <th>Western</th>\n",
       "    </tr>\n",
       "  </thead>\n",
       "  <tbody>\n",
       "    <tr>\n",
       "      <th>0</th>\n",
       "      <td>1</td>\n",
       "      <td>5</td>\n",
       "      <td>4.0</td>\n",
       "      <td>Toy Story (1995)</td>\n",
       "      <td>0</td>\n",
       "      <td>1</td>\n",
       "      <td>1</td>\n",
       "      <td>1</td>\n",
       "      <td>1</td>\n",
       "      <td>0</td>\n",
       "      <td>...</td>\n",
       "      <td>0</td>\n",
       "      <td>0</td>\n",
       "      <td>0</td>\n",
       "      <td>0</td>\n",
       "      <td>0</td>\n",
       "      <td>0</td>\n",
       "      <td>0</td>\n",
       "      <td>0</td>\n",
       "      <td>0</td>\n",
       "      <td>0</td>\n",
       "    </tr>\n",
       "    <tr>\n",
       "      <th>1</th>\n",
       "      <td>1</td>\n",
       "      <td>7</td>\n",
       "      <td>4.5</td>\n",
       "      <td>Toy Story (1995)</td>\n",
       "      <td>0</td>\n",
       "      <td>1</td>\n",
       "      <td>1</td>\n",
       "      <td>1</td>\n",
       "      <td>1</td>\n",
       "      <td>0</td>\n",
       "      <td>...</td>\n",
       "      <td>0</td>\n",
       "      <td>0</td>\n",
       "      <td>0</td>\n",
       "      <td>0</td>\n",
       "      <td>0</td>\n",
       "      <td>0</td>\n",
       "      <td>0</td>\n",
       "      <td>0</td>\n",
       "      <td>0</td>\n",
       "      <td>0</td>\n",
       "    </tr>\n",
       "    <tr>\n",
       "      <th>2</th>\n",
       "      <td>1</td>\n",
       "      <td>15</td>\n",
       "      <td>2.5</td>\n",
       "      <td>Toy Story (1995)</td>\n",
       "      <td>0</td>\n",
       "      <td>1</td>\n",
       "      <td>1</td>\n",
       "      <td>1</td>\n",
       "      <td>1</td>\n",
       "      <td>0</td>\n",
       "      <td>...</td>\n",
       "      <td>0</td>\n",
       "      <td>0</td>\n",
       "      <td>0</td>\n",
       "      <td>0</td>\n",
       "      <td>0</td>\n",
       "      <td>0</td>\n",
       "      <td>0</td>\n",
       "      <td>0</td>\n",
       "      <td>0</td>\n",
       "      <td>0</td>\n",
       "    </tr>\n",
       "    <tr>\n",
       "      <th>3</th>\n",
       "      <td>1</td>\n",
       "      <td>17</td>\n",
       "      <td>4.5</td>\n",
       "      <td>Toy Story (1995)</td>\n",
       "      <td>0</td>\n",
       "      <td>1</td>\n",
       "      <td>1</td>\n",
       "      <td>1</td>\n",
       "      <td>1</td>\n",
       "      <td>0</td>\n",
       "      <td>...</td>\n",
       "      <td>0</td>\n",
       "      <td>0</td>\n",
       "      <td>0</td>\n",
       "      <td>0</td>\n",
       "      <td>0</td>\n",
       "      <td>0</td>\n",
       "      <td>0</td>\n",
       "      <td>0</td>\n",
       "      <td>0</td>\n",
       "      <td>0</td>\n",
       "    </tr>\n",
       "    <tr>\n",
       "      <th>4</th>\n",
       "      <td>1</td>\n",
       "      <td>27</td>\n",
       "      <td>3.0</td>\n",
       "      <td>Toy Story (1995)</td>\n",
       "      <td>0</td>\n",
       "      <td>1</td>\n",
       "      <td>1</td>\n",
       "      <td>1</td>\n",
       "      <td>1</td>\n",
       "      <td>0</td>\n",
       "      <td>...</td>\n",
       "      <td>0</td>\n",
       "      <td>0</td>\n",
       "      <td>0</td>\n",
       "      <td>0</td>\n",
       "      <td>0</td>\n",
       "      <td>0</td>\n",
       "      <td>0</td>\n",
       "      <td>0</td>\n",
       "      <td>0</td>\n",
       "      <td>0</td>\n",
       "    </tr>\n",
       "  </tbody>\n",
       "</table>\n",
       "<p>5 rows × 23 columns</p>\n",
       "</div>"
      ],
      "text/plain": [
       "   movieId  userId  rating             title  Action  Adventure  Animation  \\\n",
       "0        1       5     4.0  Toy Story (1995)       0          1          1   \n",
       "1        1       7     4.5  Toy Story (1995)       0          1          1   \n",
       "2        1      15     2.5  Toy Story (1995)       0          1          1   \n",
       "3        1      17     4.5  Toy Story (1995)       0          1          1   \n",
       "4        1      27     3.0  Toy Story (1995)       0          1          1   \n",
       "\n",
       "   Children  Comedy  Crime  ...  Film-Noir  Horror  IMAX  Musical  Mystery  \\\n",
       "0         1       1      0  ...          0       0     0        0        0   \n",
       "1         1       1      0  ...          0       0     0        0        0   \n",
       "2         1       1      0  ...          0       0     0        0        0   \n",
       "3         1       1      0  ...          0       0     0        0        0   \n",
       "4         1       1      0  ...          0       0     0        0        0   \n",
       "\n",
       "   Romance  Sci-Fi  Thriller  War  Western  \n",
       "0        0       0         0    0        0  \n",
       "1        0       0         0    0        0  \n",
       "2        0       0         0    0        0  \n",
       "3        0       0         0    0        0  \n",
       "4        0       0         0    0        0  \n",
       "\n",
       "[5 rows x 23 columns]"
      ]
     },
     "execution_count": 20,
     "metadata": {},
     "output_type": "execute_result"
    }
   ],
   "source": [
    "# joining genre columns to movie data frame and dropping genre string column\n",
    "# setting index for upcoming join\n",
    "\n",
    "movies = movie_ratings.join(genres_ohe)\n",
    "movies = movies.drop('genres', axis = 1)\n",
    "movies.reset_index(inplace = True)\n",
    "# print(movies.info())\n",
    "movies.head()"
   ]
  },
  {
   "cell_type": "code",
   "execution_count": 21,
   "metadata": {
    "scrolled": false
   },
   "outputs": [
    {
     "data": {
      "image/png": "[encoded data removed]",
      "text/plain": [
       "<Figure size 720x576 with 1 Axes>"
      ]
     },
     "metadata": {
      "needs_background": "light"
     },
     "output_type": "display_data"
    }
   ],
   "source": [
    "rating_list = []\n",
    "\n",
    "for each_genre in genre_list: \n",
    "    avg_movie_rating_by_genre = movies.loc[movies[each_genre] == 1, 'rating'].mean()\n",
    "    rating_list.append(avg_movie_rating_by_genre)\n",
    "    \n",
    "bar_graph_function(genre_list, rating_list, 'Average Rating per Genre', \\\n",
    "                   'Genre', 'Average Rating')\n",
    "plt.savefig('images/average_rating_per_genre.png')"
   ]
  },
  {
   "cell_type": "code",
   "execution_count": 22,
   "metadata": {},
   "outputs": [],
   "source": [
    "# war_check = movies.loc[movies['Action'] == 1, 'rating']\n",
    "# print(war_check.describe())\n",
    "# sns.boxplot(war_check, palette = 'husl')"
   ]
  },
  {
   "cell_type": "code",
   "execution_count": 23,
   "metadata": {
    "scrolled": false
   },
   "outputs": [
    {
     "data": {
      "image/png": "[encoded data removed]",
      "text/plain": [
       "<Figure size 864x432 with 1 Axes>"
      ]
     },
     "metadata": {
      "needs_background": "light"
     },
     "output_type": "display_data"
    }
   ],
   "source": [
    "genre_rating_list_master = []\n",
    "\n",
    "for each_genre in genre_list: \n",
    "    list_of_ratings_by_genre = list(movies.loc[movies[each_genre] == 1, 'rating'])\n",
    "    genre_rating_list_master.append(list_of_ratings_by_genre)\n",
    "    \n",
    "\n",
    "plt.figure(figsize=(12,6))\n",
    "sns.boxplot(data = genre_rating_list_master, palette = 'husl')\n",
    "plt.xticks(np.arange(len(genre_list)), fontsize = 14, labels = tuple(genre_list), \\\n",
    "           rotation = 45, horizontalalignment=\"right\")\n",
    "plt.xlabel('Ratings by Genre', fontsize = 18)\n",
    "plt.tight_layout()\n",
    "plt.savefig('images/ratings_boxplot_by_genre.png')"
   ]
  },
  {
   "cell_type": "code",
   "execution_count": 24,
   "metadata": {
    "scrolled": false
   },
   "outputs": [
    {
     "data": {
      "image/png": "[encoded data removed]",
      "text/plain": [
       "<Figure size 720x576 with 1 Axes>"
      ]
     },
     "metadata": {
      "needs_background": "light"
     },
     "output_type": "display_data"
    }
   ],
   "source": [
    "movie_ratings.reset_index(inplace = True)\n",
    "movie_rating_counts = pd.DataFrame(movie_ratings.groupby('rating')['movieId'].count())\n",
    "movie_rating_counts.reset_index(inplace = True)\n",
    "\n",
    "movie_rating_count_lists = list(movie_rating_counts['rating'])\n",
    "movie_rating_list = list(movie_rating_counts['movieId'])\n",
    "\n",
    "bar_graph_function(movie_rating_count_lists, movie_rating_list, 'Movie Count per Rating', \\\n",
    "                   'Rating', 'Movie Count')\n",
    "plt.savefig('images/movie_count_per_rating.png')"
   ]
  },
  {
   "cell_type": "code",
   "execution_count": 25,
   "metadata": {},
   "outputs": [
    {
     "data": {
      "image/png": "[encoded data removed]",
      "text/plain": [
       "<Figure size 720x576 with 1 Axes>"
      ]
     },
     "metadata": {
      "needs_background": "light"
     },
     "output_type": "display_data"
    }
   ],
   "source": [
    "movie_most_ratings = pd.DataFrame(movie_ratings.groupby('title')['movieId']. \\\n",
    "                                  count().sort_values(ascending = False))\n",
    "most_freq_rated_movies = movie_most_ratings.head(20)\n",
    "most_freq_rated_movies.reset_index(inplace = True)\n",
    "\n",
    "most_freq_rated_movies_list = list(most_freq_rated_movies['title'])\n",
    "how_often_rated_list = list(most_freq_rated_movies['movieId'])\n",
    "\n",
    "bar_graph_function(most_freq_rated_movies_list, how_often_rated_list, \\\n",
    "                   'Most Frequently Rated Movies', '', 'Number of Ratings')\n",
    "plt.savefig('images/most_frequently_rated_movies.png')"
   ]
  },
  {
   "cell_type": "code",
   "execution_count": 26,
   "metadata": {},
   "outputs": [],
   "source": [
    "final_ratings.reset_index(inplace = True)"
   ]
  },
  {
   "cell_type": "code",
   "execution_count": 27,
   "metadata": {},
   "outputs": [
    {
     "name": "stdout",
     "output_type": "stream",
     "text": [
      "   movieId  userId  rating\n",
      "0      318       2     3.0\n",
      "1      333       2     4.0\n",
      "2     1704       2     4.5\n",
      "3     3578       2     4.0\n",
      "4     6874       2     4.0\n",
      "453\n",
      "4252\n",
      "<class 'pandas.core.frame.DataFrame'>\n",
      "RangeIndex: 28973 entries, 0 to 28972\n",
      "Data columns (total 3 columns):\n",
      " #   Column   Non-Null Count  Dtype  \n",
      "---  ------   --------------  -----  \n",
      " 0   userId   28973 non-null  int64  \n",
      " 1   movieId  28973 non-null  int64  \n",
      " 2   rating   28973 non-null  float64\n",
      "dtypes: float64(1), int64(2)\n",
      "memory usage: 679.2 KB\n",
      "None\n"
     ]
    },
    {
     "data": {
      "text/html": [
       "<div>\n",
       "<style scoped>\n",
       "    .dataframe tbody tr th:only-of-type {\n",
       "        vertical-align: middle;\n",
       "    }\n",
       "\n",
       "    .dataframe tbody tr th {\n",
       "        vertical-align: top;\n",
       "    }\n",
       "\n",
       "    .dataframe thead th {\n",
       "        text-align: right;\n",
       "    }\n",
       "</style>\n",
       "<table border=\"1\" class=\"dataframe\">\n",
       "  <thead>\n",
       "    <tr style=\"text-align: right;\">\n",
       "      <th></th>\n",
       "      <th>userId</th>\n",
       "      <th>movieId</th>\n",
       "      <th>rating</th>\n",
       "    </tr>\n",
       "  </thead>\n",
       "  <tbody>\n",
       "    <tr>\n",
       "      <th>0</th>\n",
       "      <td>2</td>\n",
       "      <td>318</td>\n",
       "      <td>3.0</td>\n",
       "    </tr>\n",
       "    <tr>\n",
       "      <th>1</th>\n",
       "      <td>2</td>\n",
       "      <td>333</td>\n",
       "      <td>4.0</td>\n",
       "    </tr>\n",
       "    <tr>\n",
       "      <th>2</th>\n",
       "      <td>2</td>\n",
       "      <td>1704</td>\n",
       "      <td>4.5</td>\n",
       "    </tr>\n",
       "    <tr>\n",
       "      <th>3</th>\n",
       "      <td>2</td>\n",
       "      <td>3578</td>\n",
       "      <td>4.0</td>\n",
       "    </tr>\n",
       "    <tr>\n",
       "      <th>4</th>\n",
       "      <td>2</td>\n",
       "      <td>6874</td>\n",
       "      <td>4.0</td>\n",
       "    </tr>\n",
       "  </tbody>\n",
       "</table>\n",
       "</div>"
      ],
      "text/plain": [
       "   userId  movieId  rating\n",
       "0       2      318     3.0\n",
       "1       2      333     4.0\n",
       "2       2     1704     4.5\n",
       "3       2     3578     4.0\n",
       "4       2     6874     4.0"
      ]
     },
     "execution_count": 27,
     "metadata": {},
     "output_type": "execute_result"
    }
   ],
   "source": [
    "# need to flip columns in final_ratings df\n",
    "print(final_ratings.head())\n",
    "final_ratings = final_ratings[['userId', 'movieId', 'rating']]\n",
    "print(final_ratings['userId'].nunique())\n",
    "print(final_ratings['movieId'].nunique())\n",
    "print(final_ratings.info())\n",
    "final_ratings.head()"
   ]
  },
  {
   "cell_type": "code",
   "execution_count": 28,
   "metadata": {},
   "outputs": [
    {
     "name": "stdout",
     "output_type": "stream",
     "text": [
      "Number of users:  453 \n",
      "\n",
      "Number of items:  4252\n"
     ]
    }
   ],
   "source": [
    "# transform the dataset into something compatible with surprise\n",
    "# look at how many users and items we have in our dataset\n",
    "\n",
    "reader = Reader()\n",
    "data = Dataset.load_from_df(final_ratings, reader)\n",
    "dataset = data.build_full_trainset()\n",
    "print('Number of users: ', dataset.n_users, '\\n')\n",
    "print('Number of items: ', dataset.n_items)"
   ]
  },
  {
   "cell_type": "markdown",
   "metadata": {},
   "source": [
    "## Collaborative Filtering for Recommendation Systems:\n",
    "\n",
    "Surpise, a python library, will be used to analyze different collaborative filtering algorithms for creating a recommendation system. The following algorithms will be created and evaluated\n",
    "\n",
    "### memory based/neighborhood based collaborative filtering: \n",
    "\n",
    "Memory based, or neighborhood based, collaborative filtering algorithms quantify how similar users or items are to one another. These algorithms measure similarity between users or items, by different \"similarity metrics\". User vs items based, and pearson, pearson-baseline, cosine and MSD similarity metrics, will all be tested within the parameter grids, for each algorithm. The following neighborhood-based collaborative filtering methods will be tested:\n",
    "\n",
    "https://surprise.readthedocs.io/en/stable/knn_inspired.html\n",
    "\n",
    "    KNNBasic: A basic collaborative filtering algorithm\n",
    "    KNNBaseline: A basic collaborative filtering algorithm taking into account a baseline rating.\n",
    "    KNNWithMeans: A basic collaborative filtering algorithm, taking into account the mean ratings of each user.\n",
    "    KNNWithZScore: A basic collaborative filtering algorithm, taking into account the z-score normalization of each user.\n",
    "\n",
    "Each of the algorithms will have the following parameter grid:\n",
    "\n",
    "https://surprise.readthedocs.io/en/stable/similarities.html\n",
    "    \n",
    "    k: The max number of neighbors to take into account for aggregation\n",
    "    min_k: The minimum number of neighbors to take into account for aggregation\n",
    "\n",
    "    Item-based: measure the similarity between the items that target users rates/interacts with and other items\n",
    "    vs.\n",
    "    User-based: measure the similarity between target users and other users \n",
    "\n",
    "    Similarity metrics:\n",
    "        pearson: Calculate Pearson correlation coefficients between all user (or item) pairs\n",
    "        vs.\n",
    "        cosine: Calculate cosine similarity between all user (or item) pairs\n",
    "        vs.\n",
    "        MSD: Calculates the mean squared difference between similarity between all users (or item) pairs \n",
    "        vs. \n",
    "        pearson_baseline: Calculates shrunk Pearson correlation coefficient between all user (or item) pairs"
   ]
  },
  {
   "cell_type": "markdown",
   "metadata": {},
   "source": [
    "### model based collaborative filtering: \n",
    "\n",
    "Another way to make recommendation systems is by using model based collaborative filtering. Model based filtering can make predictions by viewing the dataset as a matrix, and by decomposing that matrix into individual matrices. This reduction of dimensionality can be completed using Singular-Value Decomposition or SVD. With SVD, the recommendation problem is turned into an optimization problem that deals with how good we are in predicting the rating for items given a user. The optimization is completed by minimizing the squared error using gradient descent. \n",
    "\n",
    "https://surprise.readthedocs.io/en/stable/matrix_factorization.html\n",
    "\n",
    "Alternating least squares is another matrix decomposition method, but it is best used when there are missing values in the matrix. Because our dataset does not contain missing values, we will stick to SVD for matrix decomposition.  \n",
    "\n",
    "Parameter grid for SVD:\n",
    "\n",
    "    n_epochs: the number of iterations of SGD, which is basically an iterative method used in Statistics to minimize a function.\n",
    "    lr_all: the learning rate for all parameters, which is a parameter that decides how much the parameters are adjusted in each iteration.\n",
    "    reg_all: the regularization term for all parameters, which is a penalty term added to prevent overfitting.\n",
    "    \n",
    "Scoring:\n",
    "\n",
    "    Mean Absolute Error (MAE): computes the deviation between predicted ratings and actual ratings\n",
    "\n",
    "    Root Mean Square Error (RMSE): similar to MAE, but places more emphasis on larger deviation (punishes gross inaccuracies)"
   ]
  },
  {
   "cell_type": "code",
   "execution_count": 29,
   "metadata": {},
   "outputs": [],
   "source": [
    "knnbasic = KNNBasic\n",
    "knnbaseline = KNNBaseline\n",
    "knnwithmeans = KNNWithMeans\n",
    "knnwithzscore = KNNWithZScore\n",
    "svd = SVD\n",
    "filtering_scores = {}\n",
    "\n",
    "# optimized KNN gridsearch\n",
    "\n",
    "# knn_grid = {'k': [30, 40, 50, 60],\n",
    "#             'min_k': [5, 10, 15],\n",
    "#             'sim_options': {'name': ['cosine', 'pearson', 'MSD', 'pearson_baseline'], \\\n",
    "#                             'user_based': [True, False]},\n",
    "#             'random_state': [123]}\n",
    "\n",
    "# KNN gridsearch with best_params\n",
    "\n",
    "knn_grid = {'k': [40],\n",
    "            'min_k': [10],\n",
    "            'sim_options': {'name': ['cosine', 'pearson', 'MSD', 'pearson_baseline'], \\\n",
    "                            'user_based': [True, False]},\n",
    "            'random_state': [123]}\n",
    "\n",
    "\n",
    "# optimized SVD gridsearch\n",
    "\n",
    "# svd_grid = {'reg_all': [0.05, 0.15, 0.25],\n",
    "#             'n_epochs':[50, 70, 90, 110],\n",
    "#             'lr_all': [0.05, 0.01, 0.015], \n",
    "#             'random_state': [123]}\n",
    "\n",
    "# SVD gridsearch with best_params\n",
    "\n",
    "svd_grid = {'reg_all': [0.15],\n",
    "            'n_epochs':[70],\n",
    "            'lr_all': [0.01], \n",
    "            'random_state': [123]}\n",
    "\n",
    "def g_s_function(filtering_option, param_grid, data_set):\n",
    "    \"\"\"This function will take in 3 inputs: collaborative filtering method, \n",
    "    parameter grid, and dataset. It will then perform a gridsearch using \n",
    "    cross validation to create an optimal prediction model. The model will \n",
    "    then be scored using RMSE and MAE, and will return the scores with the \n",
    "    optimal parameters.\"\"\"\n",
    "\n",
    "    g_s_filtering_option = GridSearchCV(filtering_option, param_grid = param_grid, n_jobs=-1)\n",
    "    g_s_filtering_option.fit(data_set)\n",
    "    print(filtering_option)\n",
    "    print(g_s_filtering_option.best_score)\n",
    "    print(g_s_filtering_option.best_params)\n",
    "    return (g_s_filtering_option.best_score, g_s_filtering_option.best_params)"
   ]
  },
  {
   "cell_type": "code",
   "execution_count": 30,
   "metadata": {},
   "outputs": [
    {
     "name": "stdout",
     "output_type": "stream",
     "text": [
      "<class 'surprise.prediction_algorithms.knns.KNNBasic'>\n",
      "{'rmse': 0.964080213277755, 'mae': 0.7364634469380426}\n",
      "{'rmse': {'k': 40, 'min_k': 10, 'sim_options': {'name': 'MSD', 'user_based': False}, 'random_state': 123}, 'mae': {'k': 40, 'min_k': 10, 'sim_options': {'name': 'MSD', 'user_based': False}, 'random_state': 123}}\n",
      "<class 'surprise.prediction_algorithms.knns.KNNBaseline'>\n",
      "{'rmse': 0.9168729444645433, 'mae': 0.6968941835901586}\n",
      "{'rmse': {'k': 40, 'min_k': 10, 'sim_options': {'name': 'pearson_baseline', 'user_based': False}, 'random_state': 123}, 'mae': {'k': 40, 'min_k': 10, 'sim_options': {'name': 'pearson_baseline', 'user_based': False}, 'random_state': 123}}\n",
      "<class 'surprise.prediction_algorithms.knns.KNNWithMeans'>\n",
      "{'rmse': 0.948411385977872, 'mae': 0.720261977842218}\n",
      "{'rmse': {'k': 40, 'min_k': 10, 'sim_options': {'name': 'MSD', 'user_based': True}, 'random_state': 123}, 'mae': {'k': 40, 'min_k': 10, 'sim_options': {'name': 'pearson_baseline', 'user_based': True}, 'random_state': 123}}\n",
      "<class 'surprise.prediction_algorithms.knns.KNNWithZScore'>\n",
      "{'rmse': 0.9460873307639066, 'mae': 0.716259610173414}\n",
      "{'rmse': {'k': 40, 'min_k': 10, 'sim_options': {'name': 'MSD', 'user_based': True}, 'random_state': 123}, 'mae': {'k': 40, 'min_k': 10, 'sim_options': {'name': 'pearson_baseline', 'user_based': True}, 'random_state': 123}}\n",
      "<class 'surprise.prediction_algorithms.matrix_factorization.SVD'>\n",
      "{'rmse': 0.926098611874757, 'mae': 0.7091148082365416}\n",
      "{'rmse': {'reg_all': 0.15, 'n_epochs': 70, 'lr_all': 0.01, 'random_state': 123}, 'mae': {'reg_all': 0.15, 'n_epochs': 70, 'lr_all': 0.01, 'random_state': 123}}\n"
     ]
    }
   ],
   "source": [
    "filtering_scores['knnbasic'] = g_s_function(knnbasic, knn_grid, data)  \n",
    "filtering_scores['knnbaseline'] = g_s_function(knnbaseline, knn_grid, data)    \n",
    "filtering_scores['knnwithmeans'] = g_s_function(knnwithmeans, knn_grid, data) \n",
    "filtering_scores['knnwithzscore'] = g_s_function(knnwithzscore, knn_grid, data)    \n",
    "filtering_scores['svd'] = g_s_function(svd, svd_grid, data)    "
   ]
  },
  {
   "cell_type": "markdown",
   "metadata": {},
   "source": [
    "The KNNBaseline performed the best according to the MAE score. The MAE score was chosen for comparing models because it is a more intuitive score - with a MAE score of 0.7, that means that the models predicted rating is on average, +/- 0.7 stars off of the actual rating. KNNBaseline will now be used to create recommendations for a new user, who will input 5 movie ratings to overcome the cold start problem. KNNBaseline will also be used to predict a rating for an existing user, for a movie they have not seen yet. "
   ]
  },
  {
   "cell_type": "code",
   "execution_count": 31,
   "metadata": {},
   "outputs": [
    {
     "data": {
      "text/html": [
       "<div>\n",
       "<style scoped>\n",
       "    .dataframe tbody tr th:only-of-type {\n",
       "        vertical-align: middle;\n",
       "    }\n",
       "\n",
       "    .dataframe tbody tr th {\n",
       "        vertical-align: top;\n",
       "    }\n",
       "\n",
       "    .dataframe thead th {\n",
       "        text-align: right;\n",
       "    }\n",
       "</style>\n",
       "<table border=\"1\" class=\"dataframe\">\n",
       "  <thead>\n",
       "    <tr style=\"text-align: right;\">\n",
       "      <th></th>\n",
       "      <th>movieId</th>\n",
       "      <th>title</th>\n",
       "      <th>genres</th>\n",
       "    </tr>\n",
       "  </thead>\n",
       "  <tbody>\n",
       "    <tr>\n",
       "      <th>0</th>\n",
       "      <td>1</td>\n",
       "      <td>Toy Story (1995)</td>\n",
       "      <td>Adventure|Animation|Children|Comedy|Fantasy</td>\n",
       "    </tr>\n",
       "    <tr>\n",
       "      <th>1</th>\n",
       "      <td>2</td>\n",
       "      <td>Jumanji (1995)</td>\n",
       "      <td>Adventure|Children|Fantasy</td>\n",
       "    </tr>\n",
       "    <tr>\n",
       "      <th>2</th>\n",
       "      <td>3</td>\n",
       "      <td>Grumpier Old Men (1995)</td>\n",
       "      <td>Comedy|Romance</td>\n",
       "    </tr>\n",
       "    <tr>\n",
       "      <th>3</th>\n",
       "      <td>4</td>\n",
       "      <td>Waiting to Exhale (1995)</td>\n",
       "      <td>Comedy|Drama|Romance</td>\n",
       "    </tr>\n",
       "    <tr>\n",
       "      <th>4</th>\n",
       "      <td>5</td>\n",
       "      <td>Father of the Bride Part II (1995)</td>\n",
       "      <td>Comedy</td>\n",
       "    </tr>\n",
       "  </tbody>\n",
       "</table>\n",
       "</div>"
      ],
      "text/plain": [
       "   movieId                               title  \\\n",
       "0        1                    Toy Story (1995)   \n",
       "1        2                      Jumanji (1995)   \n",
       "2        3             Grumpier Old Men (1995)   \n",
       "3        4            Waiting to Exhale (1995)   \n",
       "4        5  Father of the Bride Part II (1995)   \n",
       "\n",
       "                                        genres  \n",
       "0  Adventure|Animation|Children|Comedy|Fantasy  \n",
       "1                   Adventure|Children|Fantasy  \n",
       "2                               Comedy|Romance  \n",
       "3                         Comedy|Drama|Romance  \n",
       "4                                       Comedy  "
      ]
     },
     "execution_count": 31,
     "metadata": {},
     "output_type": "execute_result"
    }
   ],
   "source": [
    "movies_df.reset_index(inplace = True)\n",
    "movies_df.head()"
   ]
  },
  {
   "cell_type": "code",
   "execution_count": 32,
   "metadata": {},
   "outputs": [
    {
     "data": {
      "text/html": [
       "<div>\n",
       "<style scoped>\n",
       "    .dataframe tbody tr th:only-of-type {\n",
       "        vertical-align: middle;\n",
       "    }\n",
       "\n",
       "    .dataframe tbody tr th {\n",
       "        vertical-align: top;\n",
       "    }\n",
       "\n",
       "    .dataframe thead th {\n",
       "        text-align: right;\n",
       "    }\n",
       "</style>\n",
       "<table border=\"1\" class=\"dataframe\">\n",
       "  <thead>\n",
       "    <tr style=\"text-align: right;\">\n",
       "      <th></th>\n",
       "      <th>movieId</th>\n",
       "      <th>title</th>\n",
       "      <th>genres</th>\n",
       "    </tr>\n",
       "  </thead>\n",
       "  <tbody>\n",
       "    <tr>\n",
       "      <th>0</th>\n",
       "      <td>1</td>\n",
       "      <td>Toy Story (1995)</td>\n",
       "      <td>Adventure|Animation|Children|Comedy|Fantasy</td>\n",
       "    </tr>\n",
       "    <tr>\n",
       "      <th>1</th>\n",
       "      <td>2</td>\n",
       "      <td>Jumanji (1995)</td>\n",
       "      <td>Adventure|Children|Fantasy</td>\n",
       "    </tr>\n",
       "    <tr>\n",
       "      <th>2</th>\n",
       "      <td>3</td>\n",
       "      <td>Grumpier Old Men (1995)</td>\n",
       "      <td>Comedy|Romance</td>\n",
       "    </tr>\n",
       "    <tr>\n",
       "      <th>4</th>\n",
       "      <td>5</td>\n",
       "      <td>Father of the Bride Part II (1995)</td>\n",
       "      <td>Comedy</td>\n",
       "    </tr>\n",
       "    <tr>\n",
       "      <th>5</th>\n",
       "      <td>6</td>\n",
       "      <td>Heat (1995)</td>\n",
       "      <td>Action|Crime|Thriller</td>\n",
       "    </tr>\n",
       "  </tbody>\n",
       "</table>\n",
       "</div>"
      ],
      "text/plain": [
       "   movieId                               title  \\\n",
       "0        1                    Toy Story (1995)   \n",
       "1        2                      Jumanji (1995)   \n",
       "2        3             Grumpier Old Men (1995)   \n",
       "4        5  Father of the Bride Part II (1995)   \n",
       "5        6                         Heat (1995)   \n",
       "\n",
       "                                        genres  \n",
       "0  Adventure|Animation|Children|Comedy|Fantasy  \n",
       "1                   Adventure|Children|Fantasy  \n",
       "2                               Comedy|Romance  \n",
       "4                                       Comedy  \n",
       "5                        Action|Crime|Thriller  "
      ]
     },
     "execution_count": 32,
     "metadata": {},
     "output_type": "execute_result"
    }
   ],
   "source": [
    "# narrowing down the top 500 most frequently rated movies for new user ratings\n",
    "\n",
    "hundred_movie_most_ratings = pd.DataFrame(movie_ratings.groupby('movieId')['title'].count() \\\n",
    "                                          .sort_values(ascending = False))\n",
    "hundred_most_freq_rated_movies = hundred_movie_most_ratings.head(500)\n",
    "hundred_most_freq_rated_movies.reset_index(inplace = True)\n",
    "hundred_most_freq_rated_movies_list = list(hundred_most_freq_rated_movies['movieId'])\n",
    "top_500_freq_rated_movies_df = movies_df.loc[movies_df['movieId']. \\\n",
    "                                             isin(hundred_most_freq_rated_movies_list)]\n",
    "top_500_freq_rated_movies_df.head()"
   ]
  },
  {
   "cell_type": "code",
   "execution_count": 33,
   "metadata": {},
   "outputs": [
    {
     "name": "stdout",
     "output_type": "stream",
     "text": [
      "      movieId                title                               genres\n",
      "4360     6377  Finding Nemo (2003)  Adventure|Animation|Children|Comedy\n",
      "How do you rate this movie on a scale of 1-5?\n",
      "        Press n if you have not seen or already rated:5\n",
      "     movieId                            title                       genres\n",
      "307      349  Clear and Present Danger (1994)  Action|Crime|Drama|Thriller\n",
      "How do you rate this movie on a scale of 1-5?\n",
      "        Press n if you have not seen or already rated:n\n",
      "     movieId                              title                 genres\n",
      "138      165  Die Hard: With a Vengeance (1995)  Action|Crime|Thriller\n",
      "How do you rate this movie on a scale of 1-5?\n",
      "        Press n if you have not seen or already rated:n\n",
      "      movieId                                  title  \\\n",
      "1997     2657  Rocky Horror Picture Show, The (1975)   \n",
      "\n",
      "                            genres  \n",
      "1997  Comedy|Horror|Musical|Sci-Fi  \n",
      "How do you rate this movie on a scale of 1-5?\n",
      "        Press n if you have not seen or already rated:n\n",
      "      movieId                 title                                     genres\n",
      "6358    49530  Blood Diamond (2006)  Action|Adventure|Crime|Drama|Thriller|War\n",
      "How do you rate this movie on a scale of 1-5?\n",
      "        Press n if you have not seen or already rated:3\n",
      "      movieId                     title                      genres\n",
      "4795     7143  Last Samurai, The (2003)  Action|Adventure|Drama|War\n",
      "How do you rate this movie on a scale of 1-5?\n",
      "        Press n if you have not seen or already rated:n\n",
      "      movieId                   title         genres\n",
      "2145     2858  American Beauty (1999)  Drama|Romance\n",
      "How do you rate this movie on a scale of 1-5?\n",
      "        Press n if you have not seen or already rated:3\n",
      "      movieId              title                genres\n",
      "7154    71535  Zombieland (2009)  Action|Comedy|Horror\n",
      "How do you rate this movie on a scale of 1-5?\n",
      "        Press n if you have not seen or already rated:5\n",
      "      movieId                    title               genres\n",
      "1267     1682  Truman Show, The (1998)  Comedy|Drama|Sci-Fi\n",
      "How do you rate this movie on a scale of 1-5?\n",
      "        Press n if you have not seen or already rated:3\n"
     ]
    }
   ],
   "source": [
    "# getting ratings for 5 movies from new user\n",
    "\n",
    "def movie_rater(movie_dataset,num, genre=None):\n",
    "    \"\"\"This function will ask the (new) user for ratings of 5 different movies \n",
    "    to address the cold start problem. The movies are coming from a list of the \n",
    "    top 500 most frequently rated movies. The user can press n if the have not \n",
    "    seen the movie, or if it has already been rated.\"\"\"\n",
    "    userID = 1000\n",
    "    rating_list = []\n",
    "    while num > 0:\n",
    "        if genre:\n",
    "            movie = movie_dataset[movie_dataset['genres'].str.contains(genre)].sample(1)\n",
    "        else:\n",
    "            movie = movie_dataset.sample(1)\n",
    "        print(movie)\n",
    "        rating = input(\"\"\"How do you rate this movie on a scale of 1-5?\n",
    "        Press n if you have not seen or already rated:\"\"\")\n",
    "        if rating == 'n':\n",
    "            continue\n",
    "        else:\n",
    "            rating_one_movie = {'userId':userID, 'movieId':movie['movieId'].values[0], \\\n",
    "                                'rating':rating}\n",
    "            rating_list.append(rating_one_movie) \n",
    "            num -= 1\n",
    "    return rating_list  \n",
    "\n",
    "user_rating = movie_rater(top_500_freq_rated_movies_df, 5)"
   ]
  },
  {
   "cell_type": "code",
   "execution_count": 34,
   "metadata": {},
   "outputs": [
    {
     "name": "stdout",
     "output_type": "stream",
     "text": [
      "Estimating biases using als...\n",
      "Computing the msd similarity matrix...\n",
      "Done computing similarity matrix.\n"
     ]
    },
    {
     "data": {
      "text/plain": [
       "<surprise.prediction_algorithms.knns.KNNBaseline at 0x1a20dd2d50>"
      ]
     },
     "execution_count": 34,
     "metadata": {},
     "output_type": "execute_result"
    }
   ],
   "source": [
    "# add the new user ratings to the original ratings DataFrame\n",
    "\n",
    "new_ratings_df = final_ratings.append(user_rating,ignore_index=True)\n",
    "new_data = Dataset.load_from_df(new_ratings_df,reader)\n",
    "\n",
    "# train a model using the new combined DataFrame\n",
    "\n",
    "baseline = KNNBaseline(sim_options={'name': 'MSD', 'user_based': False})\n",
    "baseline.fit(new_data.build_full_trainset())"
   ]
  },
  {
   "cell_type": "code",
   "execution_count": 35,
   "metadata": {},
   "outputs": [],
   "source": [
    "# make predictions for the new user and put into list\n",
    "\n",
    "list_of_movies = []\n",
    "for m_id in final_ratings['movieId'].unique():\n",
    "    list_of_movies.append( (m_id,baseline.predict(1000,m_id)[3]))\n",
    "\n",
    "# order the predictions from highest to lowest rated\n",
    "\n",
    "ranked_movies = sorted(list_of_movies, key=lambda x:x[1], reverse=True)"
   ]
  },
  {
   "cell_type": "code",
   "execution_count": 36,
   "metadata": {},
   "outputs": [
    {
     "name": "stdout",
     "output_type": "stream",
     "text": [
      "Recommendation #  1 :  8509    The Drop (2014)\n",
      "Name: title, dtype: object \n",
      "\n",
      "Recommendation #  2 :  8828    The Jinx: The Life and Deaths of Robert Durst ...\n",
      "Name: title, dtype: object \n",
      "\n",
      "Recommendation #  3 :  1527    Parent Trap, The (1998)\n",
      "Name: title, dtype: object \n",
      "\n",
      "Recommendation #  4 :  7845    21 Jump Street (2012)\n",
      "Name: title, dtype: object \n",
      "\n",
      "Recommendation #  5 :  790    Fox and the Hound, The (1981)\n",
      "Name: title, dtype: object \n",
      "\n"
     ]
    }
   ],
   "source": [
    "# format and print list of recommendations for new user\n",
    "list_of_recommended_movies = []\n",
    "\n",
    "def recommended_movies(user_ratings,movie_title_df,n):\n",
    "    \"\"\"This function will print out the top 5 recommended movies for the new user.\"\"\"\n",
    "    for idx, rec in enumerate(user_ratings):\n",
    "        title = movie_title_df.loc[movie_title_df['movieId'] == int(rec[0])]['title']\n",
    "        print('Recommendation # ', idx+1, ': ', title, '\\n')\n",
    "        list_of_recommended_movies.append(title)\n",
    "        n-= 1\n",
    "        if n == 0:\n",
    "            break\n",
    "            \n",
    "recommended_movies(ranked_movies,movies_df,5)"
   ]
  },
  {
   "cell_type": "code",
   "execution_count": 37,
   "metadata": {},
   "outputs": [
    {
     "data": {
      "text/plain": [
       "array([ 2,  5,  7,  8,  9, 10, 11, 12, 13, 14])"
      ]
     },
     "execution_count": 37,
     "metadata": {},
     "output_type": "execute_result"
    }
   ],
   "source": [
    "# make recommendations for existing users (movies_df and final_ratings)\n",
    "# pick a userID\n",
    "\n",
    "final_ratings.head()\n",
    "users_list = final_ratings['userId'].unique()\n",
    "movies_list =  final_ratings['movieId'].unique()\n",
    "users_list[:10]"
   ]
  },
  {
   "cell_type": "code",
   "execution_count": 38,
   "metadata": {},
   "outputs": [
    {
     "data": {
      "text/plain": [
       "array([ 1,  2,  3,  4,  5,  6,  7,  8,  9, 10])"
      ]
     },
     "execution_count": 38,
     "metadata": {},
     "output_type": "execute_result"
    }
   ],
   "source": [
    "# find a movie that user 2 has not seen yet (in movies_list, but not user_2_movies_list)\n",
    "\n",
    "user_2_movies = final_ratings.loc[final_ratings['userId'] == 2, ['movieId']]\n",
    "user_2_movies_list = user_2_movies['movieId']\n",
    "movies_user_2_has_not_rated = np.setdiff1d(movies_list, user_2_movies_list)\n",
    "movies_user_2_has_not_rated[:10]"
   ]
  },
  {
   "cell_type": "code",
   "execution_count": 39,
   "metadata": {},
   "outputs": [
    {
     "data": {
      "text/html": [
       "<div>\n",
       "<style scoped>\n",
       "    .dataframe tbody tr th:only-of-type {\n",
       "        vertical-align: middle;\n",
       "    }\n",
       "\n",
       "    .dataframe tbody tr th {\n",
       "        vertical-align: top;\n",
       "    }\n",
       "\n",
       "    .dataframe thead th {\n",
       "        text-align: right;\n",
       "    }\n",
       "</style>\n",
       "<table border=\"1\" class=\"dataframe\">\n",
       "  <thead>\n",
       "    <tr style=\"text-align: right;\">\n",
       "      <th></th>\n",
       "      <th>movieId</th>\n",
       "      <th>title</th>\n",
       "      <th>genres</th>\n",
       "    </tr>\n",
       "  </thead>\n",
       "  <tbody>\n",
       "    <tr>\n",
       "      <th>0</th>\n",
       "      <td>1</td>\n",
       "      <td>Toy Story (1995)</td>\n",
       "      <td>Adventure|Animation|Children|Comedy|Fantasy</td>\n",
       "    </tr>\n",
       "  </tbody>\n",
       "</table>\n",
       "</div>"
      ],
      "text/plain": [
       "   movieId             title                                       genres\n",
       "0        1  Toy Story (1995)  Adventure|Animation|Children|Comedy|Fantasy"
      ]
     },
     "execution_count": 39,
     "metadata": {},
     "output_type": "execute_result"
    }
   ],
   "source": [
    "# find the title of the chosen movie\n",
    "\n",
    "movies_id_1 = movies_df.loc[movies_df['movieId'] ==1]\n",
    "movies_id_1"
   ]
  },
  {
   "cell_type": "code",
   "execution_count": 40,
   "metadata": {},
   "outputs": [
    {
     "data": {
      "text/plain": [
       "4.04"
      ]
     },
     "execution_count": 40,
     "metadata": {},
     "output_type": "execute_result"
    }
   ],
   "source": [
    "# make the prediction for the users rating\n",
    "user_2_movie_1_prediction = baseline.predict(2,1)\n",
    "round(user_2_movie_1_prediction[3], 2)"
   ]
  }
 ],
 "metadata": {
  "kernelspec": {
   "display_name": "Python 3",
   "language": "python",
   "name": "python3"
  },
  "language_info": {
   "codemirror_mode": {
    "name": "ipython",
    "version": 3
   },
   "file_extension": ".py",
   "mimetype": "text/x-python",
   "name": "python",
   "nbconvert_exporter": "python",
   "pygments_lexer": "ipython3",
   "version": "3.7.6"
  }
 },
 "nbformat": 4,
 "nbformat_minor": 2
}
